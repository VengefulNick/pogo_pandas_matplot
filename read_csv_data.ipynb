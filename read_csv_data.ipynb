{
 "cells": [
  {
   "cell_type": "markdown",
   "metadata": {},
   "source": [
    "Importing pandas, matplot and seaborn\n",
    "\n",
    "Read the CSV data"
   ]
  },
  {
   "cell_type": "code",
   "execution_count": 10,
   "metadata": {},
   "outputs": [],
   "source": [
    "import pandas as pd\n",
    "import matplotlib.pyplot as mp\n",
    "import seaborn as sb\n",
    "\n",
    "data = pd.read_csv('PLA_pokedex_complete.csv')"
   ]
  },
  {
   "cell_type": "markdown",
   "metadata": {},
   "source": [
    "Get basic info about the columns"
   ]
  },
  {
   "cell_type": "code",
   "execution_count": 20,
   "metadata": {},
   "outputs": [
    {
     "name": "stdout",
     "output_type": "stream",
     "text": [
      "<class 'pandas.core.frame.DataFrame'>\n",
      "RangeIndex: 248 entries, 0 to 247\n",
      "Data columns (total 12 columns):\n",
      " #   Column           Non-Null Count  Dtype \n",
      "---  ------           --------------  ----- \n",
      " 0   TIER             248 non-null    object\n",
      " 1   ID               248 non-null    object\n",
      " 2   Pokemon          248 non-null    object\n",
      " 3   Type_1           248 non-null    object\n",
      " 4   Type_2           129 non-null    object\n",
      " 5   Total            248 non-null    int64 \n",
      " 6   HP               248 non-null    int64 \n",
      " 7   Attack           248 non-null    int64 \n",
      " 8   Special_Attack   248 non-null    int64 \n",
      " 9   Defense          248 non-null    int64 \n",
      " 10  Special_Defense  248 non-null    int64 \n",
      " 11  Speed            248 non-null    int64 \n",
      "dtypes: int64(7), object(5)\n",
      "memory usage: 23.4+ KB\n"
     ]
    }
   ],
   "source": [
    "data.info()"
   ]
  },
  {
   "cell_type": "markdown",
   "metadata": {},
   "source": [
    "Show numeric information on the data"
   ]
  },
  {
   "cell_type": "code",
   "execution_count": 12,
   "metadata": {},
   "outputs": [
    {
     "data": {
      "text/html": [
       "<div>\n",
       "<style scoped>\n",
       "    .dataframe tbody tr th:only-of-type {\n",
       "        vertical-align: middle;\n",
       "    }\n",
       "\n",
       "    .dataframe tbody tr th {\n",
       "        vertical-align: top;\n",
       "    }\n",
       "\n",
       "    .dataframe thead th {\n",
       "        text-align: right;\n",
       "    }\n",
       "</style>\n",
       "<table border=\"1\" class=\"dataframe\">\n",
       "  <thead>\n",
       "    <tr style=\"text-align: right;\">\n",
       "      <th></th>\n",
       "      <th>Total</th>\n",
       "      <th>HP</th>\n",
       "      <th>Attack</th>\n",
       "      <th>Special_Attack</th>\n",
       "      <th>Defense</th>\n",
       "      <th>Special_Defense</th>\n",
       "      <th>Speed</th>\n",
       "    </tr>\n",
       "  </thead>\n",
       "  <tbody>\n",
       "    <tr>\n",
       "      <th>count</th>\n",
       "      <td>248.000000</td>\n",
       "      <td>248.000000</td>\n",
       "      <td>248.000000</td>\n",
       "      <td>248.000000</td>\n",
       "      <td>248.000000</td>\n",
       "      <td>248.000000</td>\n",
       "      <td>248.000000</td>\n",
       "    </tr>\n",
       "    <tr>\n",
       "      <th>mean</th>\n",
       "      <td>437.326613</td>\n",
       "      <td>71.572581</td>\n",
       "      <td>77.971774</td>\n",
       "      <td>73.907258</td>\n",
       "      <td>71.995968</td>\n",
       "      <td>72.802419</td>\n",
       "      <td>69.076613</td>\n",
       "    </tr>\n",
       "    <tr>\n",
       "      <th>std</th>\n",
       "      <td>113.531970</td>\n",
       "      <td>29.616762</td>\n",
       "      <td>30.974771</td>\n",
       "      <td>31.455313</td>\n",
       "      <td>30.332102</td>\n",
       "      <td>26.774612</td>\n",
       "      <td>28.715803</td>\n",
       "    </tr>\n",
       "    <tr>\n",
       "      <th>min</th>\n",
       "      <td>194.000000</td>\n",
       "      <td>20.000000</td>\n",
       "      <td>5.000000</td>\n",
       "      <td>10.000000</td>\n",
       "      <td>5.000000</td>\n",
       "      <td>20.000000</td>\n",
       "      <td>5.000000</td>\n",
       "    </tr>\n",
       "    <tr>\n",
       "      <th>25%</th>\n",
       "      <td>334.750000</td>\n",
       "      <td>55.000000</td>\n",
       "      <td>55.000000</td>\n",
       "      <td>50.000000</td>\n",
       "      <td>50.000000</td>\n",
       "      <td>51.750000</td>\n",
       "      <td>45.000000</td>\n",
       "    </tr>\n",
       "    <tr>\n",
       "      <th>50%</th>\n",
       "      <td>457.500000</td>\n",
       "      <td>70.000000</td>\n",
       "      <td>77.000000</td>\n",
       "      <td>70.000000</td>\n",
       "      <td>70.000000</td>\n",
       "      <td>70.500000</td>\n",
       "      <td>65.000000</td>\n",
       "    </tr>\n",
       "    <tr>\n",
       "      <th>75%</th>\n",
       "      <td>523.500000</td>\n",
       "      <td>85.000000</td>\n",
       "      <td>100.000000</td>\n",
       "      <td>95.000000</td>\n",
       "      <td>88.500000</td>\n",
       "      <td>90.000000</td>\n",
       "      <td>90.000000</td>\n",
       "    </tr>\n",
       "    <tr>\n",
       "      <th>max</th>\n",
       "      <td>720.000000</td>\n",
       "      <td>255.000000</td>\n",
       "      <td>165.000000</td>\n",
       "      <td>150.000000</td>\n",
       "      <td>200.000000</td>\n",
       "      <td>150.000000</td>\n",
       "      <td>150.000000</td>\n",
       "    </tr>\n",
       "  </tbody>\n",
       "</table>\n",
       "</div>"
      ],
      "text/plain": [
       "            Total          HP      Attack  Special_Attack     Defense  \\\n",
       "count  248.000000  248.000000  248.000000      248.000000  248.000000   \n",
       "mean   437.326613   71.572581   77.971774       73.907258   71.995968   \n",
       "std    113.531970   29.616762   30.974771       31.455313   30.332102   \n",
       "min    194.000000   20.000000    5.000000       10.000000    5.000000   \n",
       "25%    334.750000   55.000000   55.000000       50.000000   50.000000   \n",
       "50%    457.500000   70.000000   77.000000       70.000000   70.000000   \n",
       "75%    523.500000   85.000000  100.000000       95.000000   88.500000   \n",
       "max    720.000000  255.000000  165.000000      150.000000  200.000000   \n",
       "\n",
       "       Special_Defense       Speed  \n",
       "count       248.000000  248.000000  \n",
       "mean         72.802419   69.076613  \n",
       "std          26.774612   28.715803  \n",
       "min          20.000000    5.000000  \n",
       "25%          51.750000   45.000000  \n",
       "50%          70.500000   65.000000  \n",
       "75%          90.000000   90.000000  \n",
       "max         150.000000  150.000000  "
      ]
     },
     "execution_count": 12,
     "metadata": {},
     "output_type": "execute_result"
    }
   ],
   "source": [
    "data.describe()"
   ]
  },
  {
   "cell_type": "markdown",
   "metadata": {},
   "source": [
    "Show which and how many nulls columns have."
   ]
  },
  {
   "cell_type": "code",
   "execution_count": 13,
   "metadata": {},
   "outputs": [
    {
     "data": {
      "text/plain": [
       "TIER                 0\n",
       "ID                   0\n",
       "Pokemon              0\n",
       "Type_1               0\n",
       "Type_2             119\n",
       "Total                0\n",
       "HP                   0\n",
       "Attack               0\n",
       "Special_Attack       0\n",
       "Defense              0\n",
       "Special_Defense      0\n",
       "Speed                0\n",
       "dtype: int64"
      ]
     },
     "execution_count": 13,
     "metadata": {},
     "output_type": "execute_result"
    }
   ],
   "source": [
    "data.isnull().sum()"
   ]
  },
  {
   "cell_type": "markdown",
   "metadata": {},
   "source": [
    "Target only Pokemons meeting speficik type conditions"
   ]
  },
  {
   "cell_type": "code",
   "execution_count": 26,
   "metadata": {},
   "outputs": [
    {
     "data": {
      "text/html": [
       "<div>\n",
       "<style scoped>\n",
       "    .dataframe tbody tr th:only-of-type {\n",
       "        vertical-align: middle;\n",
       "    }\n",
       "\n",
       "    .dataframe tbody tr th {\n",
       "        vertical-align: top;\n",
       "    }\n",
       "\n",
       "    .dataframe thead th {\n",
       "        text-align: right;\n",
       "    }\n",
       "</style>\n",
       "<table border=\"1\" class=\"dataframe\">\n",
       "  <thead>\n",
       "    <tr style=\"text-align: right;\">\n",
       "      <th></th>\n",
       "      <th>TIER</th>\n",
       "      <th>ID</th>\n",
       "      <th>Pokemon</th>\n",
       "      <th>Type_1</th>\n",
       "      <th>Type_2</th>\n",
       "      <th>Total</th>\n",
       "      <th>HP</th>\n",
       "      <th>Attack</th>\n",
       "      <th>Special_Attack</th>\n",
       "      <th>Defense</th>\n",
       "      <th>Special_Defense</th>\n",
       "      <th>Speed</th>\n",
       "    </tr>\n",
       "  </thead>\n",
       "  <tbody>\n",
       "    <tr>\n",
       "      <th>80</th>\n",
       "      <td>C</td>\n",
       "      <td>#083</td>\n",
       "      <td>Gastrodon</td>\n",
       "      <td>Water</td>\n",
       "      <td>Ground</td>\n",
       "      <td>475</td>\n",
       "      <td>111</td>\n",
       "      <td>83</td>\n",
       "      <td>92</td>\n",
       "      <td>68</td>\n",
       "      <td>82</td>\n",
       "      <td>39</td>\n",
       "    </tr>\n",
       "    <tr>\n",
       "      <th>94</th>\n",
       "      <td>F</td>\n",
       "      <td>#097</td>\n",
       "      <td>Barboach</td>\n",
       "      <td>Water</td>\n",
       "      <td>Ground</td>\n",
       "      <td>288</td>\n",
       "      <td>50</td>\n",
       "      <td>48</td>\n",
       "      <td>46</td>\n",
       "      <td>43</td>\n",
       "      <td>41</td>\n",
       "      <td>60</td>\n",
       "    </tr>\n",
       "    <tr>\n",
       "      <th>95</th>\n",
       "      <td>C</td>\n",
       "      <td>#098</td>\n",
       "      <td>Whiscash</td>\n",
       "      <td>Water</td>\n",
       "      <td>Ground</td>\n",
       "      <td>468</td>\n",
       "      <td>110</td>\n",
       "      <td>78</td>\n",
       "      <td>76</td>\n",
       "      <td>73</td>\n",
       "      <td>71</td>\n",
       "      <td>60</td>\n",
       "    </tr>\n",
       "  </tbody>\n",
       "</table>\n",
       "</div>"
      ],
      "text/plain": [
       "   TIER    ID    Pokemon Type_1  Type_2  Total   HP  Attack  Special_Attack  \\\n",
       "80    C  #083  Gastrodon  Water  Ground    475  111      83              92   \n",
       "94    F  #097   Barboach  Water  Ground    288   50      48              46   \n",
       "95    C  #098   Whiscash  Water  Ground    468  110      78              76   \n",
       "\n",
       "    Defense  Special_Defense  Speed  \n",
       "80       68               82     39  \n",
       "94       43               41     60  \n",
       "95       73               71     60  "
      ]
     },
     "execution_count": 26,
     "metadata": {},
     "output_type": "execute_result"
    }
   ],
   "source": [
    "data[((data['Type_1'] == 'Water') & (data['Type_2'] == 'Ground'))]"
   ]
  },
  {
   "cell_type": "markdown",
   "metadata": {},
   "source": [
    "Group pokemon types by their mean speed"
   ]
  },
  {
   "cell_type": "code",
   "execution_count": 34,
   "metadata": {},
   "outputs": [
    {
     "data": {
      "text/plain": [
       "Type_1\n",
       "Bug         55.150000\n",
       "Dark        92.428571\n",
       "Dragon      61.000000\n",
       "Electric    88.578947\n",
       "Fairy       51.333333\n",
       "Name: Speed, dtype: float64"
      ]
     },
     "execution_count": 34,
     "metadata": {},
     "output_type": "execute_result"
    }
   ],
   "source": [
    "data.groupby('Type_1')['Speed'].mean().head()"
   ]
  },
  {
   "cell_type": "markdown",
   "metadata": {},
   "source": [
    "Sort speed into 3 different categories based on their speed value"
   ]
  },
  {
   "cell_type": "code",
   "execution_count": 35,
   "metadata": {},
   "outputs": [],
   "source": [
    "def speed_rating(speed):\n",
    "    if speed >= 100:\n",
    "        return 'Fast'\n",
    "    elif speed >= 50:\n",
    "        return 'Average'\n",
    "    else:\n",
    "        return 'Slow'"
   ]
  },
  {
   "cell_type": "markdown",
   "metadata": {},
   "source": [
    "Add new column with using the above parameters to determine the speed."
   ]
  },
  {
   "cell_type": "code",
   "execution_count": 38,
   "metadata": {},
   "outputs": [
    {
     "data": {
      "text/html": [
       "<div>\n",
       "<style scoped>\n",
       "    .dataframe tbody tr th:only-of-type {\n",
       "        vertical-align: middle;\n",
       "    }\n",
       "\n",
       "    .dataframe tbody tr th {\n",
       "        vertical-align: top;\n",
       "    }\n",
       "\n",
       "    .dataframe thead th {\n",
       "        text-align: right;\n",
       "    }\n",
       "</style>\n",
       "<table border=\"1\" class=\"dataframe\">\n",
       "  <thead>\n",
       "    <tr style=\"text-align: right;\">\n",
       "      <th></th>\n",
       "      <th>TIER</th>\n",
       "      <th>ID</th>\n",
       "      <th>Pokemon</th>\n",
       "      <th>Type_1</th>\n",
       "      <th>Type_2</th>\n",
       "      <th>Total</th>\n",
       "      <th>HP</th>\n",
       "      <th>Attack</th>\n",
       "      <th>Special_Attack</th>\n",
       "      <th>Defense</th>\n",
       "      <th>Special_Defense</th>\n",
       "      <th>Speed</th>\n",
       "      <th>Speed_catergory</th>\n",
       "    </tr>\n",
       "  </thead>\n",
       "  <tbody>\n",
       "    <tr>\n",
       "      <th>0</th>\n",
       "      <td>F</td>\n",
       "      <td>#001</td>\n",
       "      <td>Rowlet</td>\n",
       "      <td>Grass</td>\n",
       "      <td>Flying</td>\n",
       "      <td>320</td>\n",
       "      <td>68</td>\n",
       "      <td>55</td>\n",
       "      <td>50</td>\n",
       "      <td>55</td>\n",
       "      <td>50</td>\n",
       "      <td>42</td>\n",
       "      <td>Slow</td>\n",
       "    </tr>\n",
       "    <tr>\n",
       "      <th>1</th>\n",
       "      <td>D</td>\n",
       "      <td>#002</td>\n",
       "      <td>Dartrix</td>\n",
       "      <td>Grass</td>\n",
       "      <td>Flying</td>\n",
       "      <td>420</td>\n",
       "      <td>78</td>\n",
       "      <td>75</td>\n",
       "      <td>70</td>\n",
       "      <td>75</td>\n",
       "      <td>70</td>\n",
       "      <td>52</td>\n",
       "      <td>Average</td>\n",
       "    </tr>\n",
       "    <tr>\n",
       "      <th>2</th>\n",
       "      <td>A</td>\n",
       "      <td>#003</td>\n",
       "      <td>Hisuian Decidueye</td>\n",
       "      <td>Grass</td>\n",
       "      <td>Fighting</td>\n",
       "      <td>530</td>\n",
       "      <td>88</td>\n",
       "      <td>112</td>\n",
       "      <td>95</td>\n",
       "      <td>80</td>\n",
       "      <td>95</td>\n",
       "      <td>60</td>\n",
       "      <td>Average</td>\n",
       "    </tr>\n",
       "    <tr>\n",
       "      <th>3</th>\n",
       "      <td>F</td>\n",
       "      <td>#004</td>\n",
       "      <td>Cyndaquil</td>\n",
       "      <td>Fire</td>\n",
       "      <td>NaN</td>\n",
       "      <td>309</td>\n",
       "      <td>39</td>\n",
       "      <td>52</td>\n",
       "      <td>60</td>\n",
       "      <td>43</td>\n",
       "      <td>50</td>\n",
       "      <td>65</td>\n",
       "      <td>Average</td>\n",
       "    </tr>\n",
       "    <tr>\n",
       "      <th>4</th>\n",
       "      <td>D</td>\n",
       "      <td>#005</td>\n",
       "      <td>Quilava</td>\n",
       "      <td>Fire</td>\n",
       "      <td>NaN</td>\n",
       "      <td>405</td>\n",
       "      <td>58</td>\n",
       "      <td>64</td>\n",
       "      <td>80</td>\n",
       "      <td>58</td>\n",
       "      <td>65</td>\n",
       "      <td>80</td>\n",
       "      <td>Average</td>\n",
       "    </tr>\n",
       "  </tbody>\n",
       "</table>\n",
       "</div>"
      ],
      "text/plain": [
       "  TIER    ID            Pokemon Type_1    Type_2  Total  HP  Attack  \\\n",
       "0    F  #001             Rowlet  Grass    Flying    320  68      55   \n",
       "1    D  #002            Dartrix  Grass    Flying    420  78      75   \n",
       "2    A  #003  Hisuian Decidueye  Grass  Fighting    530  88     112   \n",
       "3    F  #004          Cyndaquil   Fire       NaN    309  39      52   \n",
       "4    D  #005            Quilava   Fire       NaN    405  58      64   \n",
       "\n",
       "   Special_Attack  Defense  Special_Defense  Speed Speed_catergory  \n",
       "0              50       55               50     42            Slow  \n",
       "1              70       75               70     52         Average  \n",
       "2              95       80               95     60         Average  \n",
       "3              60       43               50     65         Average  \n",
       "4              80       58               65     80         Average  "
      ]
     },
     "execution_count": 38,
     "metadata": {},
     "output_type": "execute_result"
    }
   ],
   "source": [
    "data['Speed_catergory'] = data['Speed'].apply(speed_rating)\n",
    "\n",
    "data.head()"
   ]
  }
 ],
 "metadata": {
  "interpreter": {
   "hash": "63fd5069d213b44bf678585dea6b12cceca9941eaf7f819626cde1f2670de90d"
  },
  "kernelspec": {
   "display_name": "Python 3.9.7 64-bit",
   "language": "python",
   "name": "python3"
  },
  "language_info": {
   "codemirror_mode": {
    "name": "ipython",
    "version": 3
   },
   "file_extension": ".py",
   "mimetype": "text/x-python",
   "name": "python",
   "nbconvert_exporter": "python",
   "pygments_lexer": "ipython3",
   "version": "3.9.7"
  },
  "orig_nbformat": 4
 },
 "nbformat": 4,
 "nbformat_minor": 2
}
