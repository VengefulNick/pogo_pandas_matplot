{
 "cells": [
  {
   "cell_type": "code",
   "execution_count": 7,
   "metadata": {},
   "outputs": [],
   "source": [
    "# Importing pandas\n",
    "import pandas as pd\n",
    "\n",
    "# Read the CSV data\n",
    "data_frame = pd.read_csv('PLA_pokedex_complete.csv')"
   ]
  },
  {
   "cell_type": "code",
   "execution_count": 8,
   "metadata": {},
   "outputs": [
    {
     "name": "stdout",
     "output_type": "stream",
     "text": [
      "<class 'pandas.core.frame.DataFrame'>\n",
      "RangeIndex: 248 entries, 0 to 247\n",
      "Data columns (total 12 columns):\n",
      " #   Column           Non-Null Count  Dtype \n",
      "---  ------           --------------  ----- \n",
      " 0   TIER             248 non-null    object\n",
      " 1   ID               248 non-null    object\n",
      " 2   Pokemon          248 non-null    object\n",
      " 3   Type_1           247 non-null    object\n",
      " 4   Type_2           129 non-null    object\n",
      " 5   Total            248 non-null    int64 \n",
      " 6   HP               248 non-null    int64 \n",
      " 7   Attack           248 non-null    int64 \n",
      " 8   Special_Attack   248 non-null    int64 \n",
      " 9   Defense          248 non-null    int64 \n",
      " 10  Special_Defense  248 non-null    int64 \n",
      " 11  Speed            248 non-null    int64 \n",
      "dtypes: int64(7), object(5)\n",
      "memory usage: 23.4+ KB\n"
     ]
    }
   ],
   "source": [
    "data_frame.info()"
   ]
  }
 ],
 "metadata": {
  "interpreter": {
   "hash": "63fd5069d213b44bf678585dea6b12cceca9941eaf7f819626cde1f2670de90d"
  },
  "kernelspec": {
   "display_name": "Python 3.9.7 64-bit",
   "language": "python",
   "name": "python3"
  },
  "language_info": {
   "codemirror_mode": {
    "name": "ipython",
    "version": 3
   },
   "file_extension": ".py",
   "mimetype": "text/x-python",
   "name": "python",
   "nbconvert_exporter": "python",
   "pygments_lexer": "ipython3",
   "version": "3.9.7"
  },
  "orig_nbformat": 4
 },
 "nbformat": 4,
 "nbformat_minor": 2
}
